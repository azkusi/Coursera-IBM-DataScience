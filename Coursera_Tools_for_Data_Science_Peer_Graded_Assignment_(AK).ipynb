{
  "nbformat": 4,
  "nbformat_minor": 0,
  "metadata": {
    "colab": {
      "provenance": []
    },
    "kernelspec": {
      "name": "python3",
      "display_name": "Python 3"
    },
    "language_info": {
      "name": "python"
    }
  },
  "cells": [
    {
      "cell_type": "markdown",
      "source": [
        "## Title: Coursera - Tools for Data Science - Peer Graded Assignment (AK)"
      ],
      "metadata": {
        "id": "uA2N_dzZNZ7A"
      }
    },
    {
      "cell_type": "markdown",
      "source": [
        "This notebook will detail my answers to the Coursera - Tools for Data Science - Peer-Graded Assignment"
      ],
      "metadata": {
        "id": "aeYV1TZ7O0kE"
      }
    },
    {
      "cell_type": "markdown",
      "source": [
        "#### This cell shows a list of data science languages\n",
        "1.   Julia\n",
        "2.   Python\n",
        "3.   R\n",
        "\n"
      ],
      "metadata": {
        "id": "HalMZ4I5UV7C"
      }
    },
    {
      "cell_type": "markdown",
      "source": [
        "#### This cell shows a list of data science libraries\n",
        "1.   NumPy\n",
        "2.   Pandas\n",
        "3.   Matplotlib\n",
        "\n"
      ],
      "metadata": {
        "id": "08V1mwxCVToB"
      }
    },
    {
      "cell_type": "markdown",
      "source": [
        "#### This cell shows a table of data science tools\n",
        "|       Data Science Tools    |\n",
        "-------------------------------\n",
        "|       Jupyter Notebook      |\n",
        "|          Anaconda           |\n",
        "|           R Studio          |\n",
        "|           Spyder            |\n",
        "|           Zeppelin          |\n",
        "\n"
      ],
      "metadata": {
        "id": "_oMSZ2y6Vplb"
      }
    },
    {
      "cell_type": "markdown",
      "source": [
        "### **This cell shows an example of an arithmentic expression that can be carried out using Jupyter Notebooks**\n"
      ],
      "metadata": {
        "id": "AhO_juMbV7Yx"
      }
    },
    {
      "cell_type": "code",
      "source": [
        "#This is an example of a simple arithmetic expression\n",
        "\n",
        "(3*2) + 4"
      ],
      "metadata": {
        "colab": {
          "base_uri": "https://localhost:8080/"
        },
        "id": "AMir6eRsXnKk",
        "outputId": "9ce30ab9-c99c-4257-e9d9-bc18044be00f"
      },
      "execution_count": 3,
      "outputs": [
        {
          "output_type": "execute_result",
          "data": {
            "text/plain": [
              "10"
            ]
          },
          "metadata": {},
          "execution_count": 3
        }
      ]
    },
    {
      "cell_type": "code",
      "source": [
        "#This code converts minutes to hours\n",
        "\n",
        "minutes = 200\n",
        "minutes_to_hours = minutes/60\n",
        "print(minutes_to_hours)"
      ],
      "metadata": {
        "colab": {
          "base_uri": "https://localhost:8080/"
        },
        "id": "fWVC3YDhYUQN",
        "outputId": "1358f59c-4a9a-4f2b-ad05-b5852e90f73d"
      },
      "execution_count": 5,
      "outputs": [
        {
          "output_type": "stream",
          "name": "stdout",
          "text": [
            "3.3333333333333335\n"
          ]
        }
      ]
    },
    {
      "cell_type": "markdown",
      "source": [
        "###This cell highlights the objectives of this excercise and course:\n",
        "\n",
        "####**Objectives**:\n",
        "\n",
        "\n",
        "\n",
        "*   Add comments to code cells\n",
        "*   Format content of markdown cells with heading styles\n",
        "*   Create markdown cells\n",
        "*   Add ordered and unordered lists to markdown cells\n",
        "\n",
        "\n",
        "\n"
      ],
      "metadata": {
        "id": "xgThmwzJzafw"
      }
    },
    {
      "cell_type": "markdown",
      "source": [
        "###**Author**:\n",
        "Azariah Kusi-Yeboah"
      ],
      "metadata": {
        "id": "vH5S_s2ZZqXK"
      }
    },
    {
      "cell_type": "code",
      "source": [],
      "metadata": {
        "id": "aQ1uO7vSYnSY"
      },
      "execution_count": null,
      "outputs": []
    }
  ]
}