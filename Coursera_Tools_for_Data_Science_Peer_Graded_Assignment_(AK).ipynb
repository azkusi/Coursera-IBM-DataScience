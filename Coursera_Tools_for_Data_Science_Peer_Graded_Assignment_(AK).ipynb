{
  "nbformat": 4,
  "nbformat_minor": 0,
  "metadata": {
    "colab": {
      "provenance": []
    },
    "kernelspec": {
      "name": "python3",
      "display_name": "Python 3"
    },
    "language_info": {
      "name": "python"
    }
  },
  "cells": [
    {
      "cell_type": "markdown",
      "source": [
        "## Title: Coursera - Tools for Data Science - Peer Graded Assignment (AK)"
      ],
      "metadata": {
        "id": "uA2N_dzZNZ7A"
      }
    },
    {
      "cell_type": "markdown",
      "source": [
        "This notebook will detail my answers to the Coursera - Tools for Data Science - Peer-Graded Assignment"
      ],
      "metadata": {
        "id": "aeYV1TZ7O0kE"
      }
    },
    {
      "cell_type": "markdown",
      "source": [
        "#### This cell shows a list of data science languages\n",
        "1.   Julia\n",
        "2.   Python\n",
        "3.   R\n",
        "\n"
      ],
      "metadata": {
        "id": "HalMZ4I5UV7C"
      }
    },
    {
      "cell_type": "markdown",
      "source": [
        "#### This cell shows a list of data science libraries\n",
        "1.   NumPy\n",
        "2.   Pandas\n",
        "3.   Matplotlib\n",
        "\n"
      ],
      "metadata": {
        "id": "08V1mwxCVToB"
      }
    },
    {
      "cell_type": "markdown",
      "source": [
        "#### This cell shows a table of data science tools\n",
        "|       Data Science Tools    |\n",
        "-------------------------------\n",
        "|       Jupyter Notebook      |\n",
        "|          Tensorflow         |\n",
        "|           Pytorch           |\n",
        "\n"
      ],
      "metadata": {
        "id": "_oMSZ2y6Vplb"
      }
    },
    {
      "cell_type": "markdown",
      "source": [
        "#### This cell shows an example of an arithmentic expression that can be carried out using Jupyter Notebooks\n",
        "\n",
        "3x5=15\n"
      ],
      "metadata": {
        "id": "AhO_juMbV7Yx"
      }
    },
    {
      "cell_type": "code",
      "source": [
        "a = 3\n",
        "b = 5\n",
        "c = a*b\n",
        "\n",
        "print(c)"
      ],
      "metadata": {
        "colab": {
          "base_uri": "https://localhost:8080/"
        },
        "id": "CpgcOWD2XLDG",
        "outputId": "469e7dc3-8d4e-49f3-c370-7cd9961a5c24"
      },
      "execution_count": 2,
      "outputs": [
        {
          "output_type": "stream",
          "name": "stdout",
          "text": [
            "15\n"
          ]
        }
      ]
    },
    {
      "cell_type": "code",
      "source": [
        "a = 3\n",
        "b = 5\n",
        "c = 4\n",
        "d = 6\n",
        "\n",
        "e = (a*b) + (c+d)\n",
        "print(e)"
      ],
      "metadata": {
        "colab": {
          "base_uri": "https://localhost:8080/"
        },
        "id": "AMir6eRsXnKk",
        "outputId": "4a952a60-7d5b-4ca0-b460-f6f0d8c1f805"
      },
      "execution_count": 4,
      "outputs": [
        {
          "output_type": "stream",
          "name": "stdout",
          "text": [
            "25\n"
          ]
        }
      ]
    },
    {
      "cell_type": "code",
      "source": [
        "minutes = 30\n",
        "minutes_to_hours = minutes/60\n",
        "print(minutes_to_hours)"
      ],
      "metadata": {
        "colab": {
          "base_uri": "https://localhost:8080/"
        },
        "id": "fWVC3YDhYUQN",
        "outputId": "d3d291ac-aae4-4273-f28a-3520238b2b1d"
      },
      "execution_count": 7,
      "outputs": [
        {
          "output_type": "stream",
          "name": "stdout",
          "text": [
            "0.5\n"
          ]
        }
      ]
    },
    {
      "cell_type": "markdown",
      "source": [
        "####The objective here was to:\n",
        "\n",
        "1.   Learn the tools required for Data Science\n",
        "2.   Learn how to use Data Science tools such as Jupyter Notebooks\n",
        "3.   Learn how to use a version control system such as GitHub\n",
        "\n",
        "\n"
      ],
      "metadata": {
        "id": "361iK2PNY9Bx"
      }
    },
    {
      "cell_type": "markdown",
      "source": [
        "###Author: **Azariah Kusi-Yeboah**"
      ],
      "metadata": {
        "id": "vH5S_s2ZZqXK"
      }
    },
    {
      "cell_type": "code",
      "source": [],
      "metadata": {
        "id": "aQ1uO7vSYnSY"
      },
      "execution_count": null,
      "outputs": []
    }
  ]
}
